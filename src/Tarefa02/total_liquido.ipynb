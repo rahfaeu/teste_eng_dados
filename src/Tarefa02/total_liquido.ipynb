{
 "cells": [
  {
   "cell_type": "markdown",
   "id": "0bd8b7d1-ffc3-4e3b-9349-f4dc2cb6b401",
   "metadata": {},
   "source": [
    "# Tarefa 02\n",
    "A segunda tarefa consiste em calcular o total líquido da empresa.<br>\n",
    "Esse total é calculado da seguinte forma total_liquido = soma(total_bruto – desconto_percentual).<br>\n",
    "O cálculo é baseado no conjunto de dados a seguir:\n",
    "\n",
    "``` json\n",
    "transacoes = [{'transacao_id':1, 'total_bruto':3000, 'desconto_percentual':6.99},\n",
    "              {'transacao_id':2, 'total_bruto':57989, 'desconto_percentual':1.45},\n",
    "              {'transacao_id':4, 'total_bruto':1, 'desconto_percentual':None},\n",
    "              {'transacao_id':5, 'total_bruto':34, 'desconto_percentual':0.0}]\n",
    "```\n",
    "\n",
    "O resultado esperado é um código com pyspark que retorne o total líquido da empresa que é 59973.46.6."
   ]
  },
  {
   "cell_type": "markdown",
   "id": "49b6a1eb-7993-4301-a379-9831269b1c84",
   "metadata": {},
   "source": [
    "## Resolução\n",
    "\n",
    "Para essa tarefa iremos utilizar o Pyspark SQL.\n",
    "\n",
    "#### Criando sessão do spark:"
   ]
  },
  {
   "cell_type": "code",
   "execution_count": 1,
   "id": "4c8f6bf2-bfc5-4531-aa4e-1a463158188b",
   "metadata": {},
   "outputs": [
    {
     "name": "stderr",
     "output_type": "stream",
     "text": [
      "23/10/29 12:28:26 WARN Utils: Your hostname, NBKPE08TCSB resolves to a loopback address: 127.0.1.1; using 172.29.120.13 instead (on interface eth0)\n",
      "23/10/29 12:28:26 WARN Utils: Set SPARK_LOCAL_IP if you need to bind to another address\n",
      "Setting default log level to \"WARN\".\n",
      "To adjust logging level use sc.setLogLevel(newLevel). For SparkR, use setLogLevel(newLevel).\n",
      "23/10/29 12:28:28 WARN NativeCodeLoader: Unable to load native-hadoop library for your platform... using builtin-java classes where applicable\n"
     ]
    }
   ],
   "source": [
    "from pyspark.sql import SparkSession\n",
    "\n",
    "spark = SparkSession.builder\\\n",
    "                    .appName('resolucao_tarefa_02')\\\n",
    "                    .getOrCreate()"
   ]
  },
  {
   "cell_type": "markdown",
   "id": "157c7485-79bf-46fb-a72b-f9f50b0f55cd",
   "metadata": {},
   "source": [
    "#### Definindo json com os dados"
   ]
  },
  {
   "cell_type": "code",
   "execution_count": 2,
   "id": "388b542d-2205-47df-986f-f98c5797aeb9",
   "metadata": {},
   "outputs": [],
   "source": [
    "transacoes = [{'transacao_id':1, 'total_bruto':3000, 'desconto_percentual':6.99},\n",
    "              {'transacao_id':2, 'total_bruto':57989, 'desconto_percentual':1.45},\n",
    "              {'transacao_id':4, 'total_bruto':1, 'desconto_percentual':None},\n",
    "              {'transacao_id':5, 'total_bruto':34, 'desconto_percentual':0.0}]"
   ]
  },
  {
   "cell_type": "markdown",
   "id": "620c8bdd-a83a-41d9-ae60-43e8a01bd8b3",
   "metadata": {},
   "source": [
    "#### Criando Dataframe a partir do json"
   ]
  },
  {
   "cell_type": "code",
   "execution_count": 3,
   "id": "2e4123d8-04ea-48ba-8c96-5cad80445a69",
   "metadata": {},
   "outputs": [],
   "source": [
    "df = spark.createDataFrame(transacoes)"
   ]
  },
  {
   "cell_type": "markdown",
   "id": "d8b7a689-3c90-493d-9c80-c02b92293a53",
   "metadata": {},
   "source": [
    "#### Criando um view temporária\n",
    "Optei por utilizar o spark SQL, então abaixo teremos uma view temporária para tratar os valores `None` da coluna `desconto_percentual`"
   ]
  },
  {
   "cell_type": "code",
   "execution_count": 4,
   "id": "7d0cd046-d430-4734-af07-911375219a0a",
   "metadata": {},
   "outputs": [],
   "source": [
    "df.createOrReplaceTempView('transacoes')"
   ]
  },
  {
   "cell_type": "markdown",
   "id": "a5ba17ca-8a95-4479-b6ec-9c76ae9d376d",
   "metadata": {},
   "source": [
    "#### Consulta para tratar os valores `None`"
   ]
  },
  {
   "cell_type": "code",
   "execution_count": 5,
   "id": "07a495c6-7e30-4439-946f-34a09542e35a",
   "metadata": {},
   "outputs": [],
   "source": [
    "dados = spark.sql('''\n",
    "   select \n",
    "       coalesce(desconto_percentual, 0) as desconto_percentual\n",
    "       , total_bruto\n",
    "       , transacao_id\n",
    "   from transacoes    \n",
    "''')\n",
    "dados.createOrReplaceTempView('total_liquido')"
   ]
  },
  {
   "cell_type": "markdown",
   "id": "b2113ea6-be84-49e4-8fa0-0dc6659147d2",
   "metadata": {},
   "source": [
    "#### Consulta aplicando o calculo para obter o valor líquido total"
   ]
  },
  {
   "cell_type": "code",
   "execution_count": 13,
   "id": "ee4e6ef2-ec97-4d02-a3a6-0a2174d49ec4",
   "metadata": {},
   "outputs": [
    {
     "name": "stdout",
     "output_type": "stream",
     "text": [
      "+-------------+\n",
      "|total_liquido|\n",
      "+-------------+\n",
      "|     59973.46|\n",
      "+-------------+\n",
      "\n"
     ]
    }
   ],
   "source": [
    "total_liquido = spark.sql('''\n",
    "    select\n",
    "        round(sum(total_bruto * ((100 - desconto_percentual)/100)), 2) as total_liquido\n",
    "    from total_liquido\n",
    "''')\n",
    "total_liquido.show()"
   ]
  }
 ],
 "metadata": {
  "kernelspec": {
   "display_name": "Python 3 (ipykernel)",
   "language": "python",
   "name": "python3"
  },
  "language_info": {
   "codemirror_mode": {
    "name": "ipython",
    "version": 3
   },
   "file_extension": ".py",
   "mimetype": "text/x-python",
   "name": "python",
   "nbconvert_exporter": "python",
   "pygments_lexer": "ipython3",
   "version": "3.8.10"
  }
 },
 "nbformat": 4,
 "nbformat_minor": 5
}
